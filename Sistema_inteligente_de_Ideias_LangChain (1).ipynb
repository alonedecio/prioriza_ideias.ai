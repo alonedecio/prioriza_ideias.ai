{
  "cells": [
    {
      "cell_type": "markdown",
      "id": "f4cf2a06",
      "metadata": {
        "id": "f4cf2a06"
      },
      "source": [
        "# Ajustando a tabela de ideias"
      ]
    },
    {
      "cell_type": "code",
      "execution_count": null,
      "id": "a1e570d5",
      "metadata": {
        "id": "a1e570d5"
      },
      "outputs": [],
      "source": [
        "import pandas as pd"
      ]
    },
    {
      "cell_type": "code",
      "execution_count": null,
      "id": "0998594d",
      "metadata": {
        "id": "0998594d",
        "outputId": "da25d6be-7b3b-49aa-a616-f98337c0edfa"
      },
      "outputs": [
        {
          "data": {
            "text/html": [
              "<div>\n",
              "<style scoped>\n",
              "    .dataframe tbody tr th:only-of-type {\n",
              "        vertical-align: middle;\n",
              "    }\n",
              "\n",
              "    .dataframe tbody tr th {\n",
              "        vertical-align: top;\n",
              "    }\n",
              "\n",
              "    .dataframe thead th {\n",
              "        text-align: right;\n",
              "    }\n",
              "</style>\n",
              "<table border=\"1\" class=\"dataframe\">\n",
              "  <thead>\n",
              "    <tr style=\"text-align: right;\">\n",
              "      <th></th>\n",
              "      <th>IDEIA_TITULO</th>\n",
              "      <th>IDEIA_DESCRICAO</th>\n",
              "      <th>USUARIO</th>\n",
              "      <th>DATA_CRIACAO</th>\n",
              "      <th>COMPLEMENTO</th>\n",
              "      <th>RESPOSTA</th>\n",
              "    </tr>\n",
              "  </thead>\n",
              "  <tbody>\n",
              "    <tr>\n",
              "      <th>0</th>\n",
              "      <td>Implementar chatbots que utilizem processament...</td>\n",
              "      <td>Em um cenário empresarial cada vez mais dinâmi...</td>\n",
              "      <td>jorge.souza</td>\n",
              "      <td>2023-11-17 15:55:54.000</td>\n",
              "      <td>Descreva melhor o desafio</td>\n",
              "      <td>O desafio principal na implementação de chatb...</td>\n",
              "    </tr>\n",
              "    <tr>\n",
              "      <th>1</th>\n",
              "      <td>NaN</td>\n",
              "      <td>NaN</td>\n",
              "      <td>NaN</td>\n",
              "      <td>NaN</td>\n",
              "      <td>Como a gente pode saber que deu certo a implem...</td>\n",
              "      <td>Por exemplo, no CDIPE:    Quantidade de currí...</td>\n",
              "    </tr>\n",
              "    <tr>\n",
              "      <th>2</th>\n",
              "      <td>NaN</td>\n",
              "      <td>NaN</td>\n",
              "      <td>NaN</td>\n",
              "      <td>NaN</td>\n",
              "      <td>Quais o prazo das principais atividades?</td>\n",
              "      <td>NaN</td>\n",
              "    </tr>\n",
              "    <tr>\n",
              "      <th>3</th>\n",
              "      <td>NaN</td>\n",
              "      <td>NaN</td>\n",
              "      <td>NaN</td>\n",
              "      <td>NaN</td>\n",
              "      <td>Quais os principais custos(R$) dessa implement...</td>\n",
              "      <td>NaN</td>\n",
              "    </tr>\n",
              "    <tr>\n",
              "      <th>4</th>\n",
              "      <td>NaN</td>\n",
              "      <td>NaN</td>\n",
              "      <td>NaN</td>\n",
              "      <td>NaN</td>\n",
              "      <td>Baseado nas entregas, monte uma apresentação p...</td>\n",
              "      <td>NaN</td>\n",
              "    </tr>\n",
              "  </tbody>\n",
              "</table>\n",
              "</div>"
            ],
            "text/plain": [
              "                                        IDEIA_TITULO  \\\n",
              "0  Implementar chatbots que utilizem processament...   \n",
              "1                                                NaN   \n",
              "2                                                NaN   \n",
              "3                                                NaN   \n",
              "4                                                NaN   \n",
              "\n",
              "                                     IDEIA_DESCRICAO      USUARIO  \\\n",
              "0  Em um cenário empresarial cada vez mais dinâmi...  jorge.souza   \n",
              "1                                                NaN          NaN   \n",
              "2                                                NaN          NaN   \n",
              "3                                                NaN          NaN   \n",
              "4                                                NaN          NaN   \n",
              "\n",
              "              DATA_CRIACAO                                        COMPLEMENTO  \\\n",
              "0  2023-11-17 15:55:54.000                          Descreva melhor o desafio   \n",
              "1                      NaN  Como a gente pode saber que deu certo a implem...   \n",
              "2                      NaN           Quais o prazo das principais atividades?   \n",
              "3                      NaN  Quais os principais custos(R$) dessa implement...   \n",
              "4                      NaN  Baseado nas entregas, monte uma apresentação p...   \n",
              "\n",
              "                                            RESPOSTA  \n",
              "0   O desafio principal na implementação de chatb...  \n",
              "1   Por exemplo, no CDIPE:    Quantidade de currí...  \n",
              "2                                                NaN  \n",
              "3                                                NaN  \n",
              "4                                                NaN  "
            ]
          },
          "execution_count": 2,
          "metadata": {},
          "output_type": "execute_result"
        }
      ],
      "source": [
        "file_path = 'Ideias.xlsx'\n",
        "\n",
        "# Leitura da planilha Excel\n",
        "df = pd.read_excel(file_path)\n",
        "\n",
        "# Verificação inicial dos dados\n",
        "df.head()"
      ]
    },
    {
      "cell_type": "code",
      "execution_count": null,
      "id": "97c17487",
      "metadata": {
        "id": "97c17487",
        "outputId": "0aeff75c-d98e-479c-cf2f-195e16ad6ffe"
      },
      "outputs": [
        {
          "data": {
            "text/html": [
              "<div>\n",
              "<style scoped>\n",
              "    .dataframe tbody tr th:only-of-type {\n",
              "        vertical-align: middle;\n",
              "    }\n",
              "\n",
              "    .dataframe tbody tr th {\n",
              "        vertical-align: top;\n",
              "    }\n",
              "\n",
              "    .dataframe thead th {\n",
              "        text-align: right;\n",
              "    }\n",
              "</style>\n",
              "<table border=\"1\" class=\"dataframe\">\n",
              "  <thead>\n",
              "    <tr style=\"text-align: right;\">\n",
              "      <th></th>\n",
              "      <th>IDEIA_TITULO</th>\n",
              "      <th>IDEIA_DESCRICAO</th>\n",
              "      <th>IDEIA</th>\n",
              "    </tr>\n",
              "  </thead>\n",
              "  <tbody>\n",
              "    <tr>\n",
              "      <th>0</th>\n",
              "      <td>Implementar chatbots que utilizem processament...</td>\n",
              "      <td>Em um cenário empresarial cada vez mais dinâmi...</td>\n",
              "      <td>Implementar chatbots que utilizem processament...</td>\n",
              "    </tr>\n",
              "    <tr>\n",
              "      <th>1</th>\n",
              "      <td>SN Conhecimento Compartilhado</td>\n",
              "      <td>Um espaço onde a sabedoria do Grupo SN é compa...</td>\n",
              "      <td>SN Conhecimento Compartilhado - Um espaço onde...</td>\n",
              "    </tr>\n",
              "    <tr>\n",
              "      <th>2</th>\n",
              "      <td>Subestação elétrica - Vitória Minerais</td>\n",
              "      <td>A unidade da Vitória Minerais está em grande e...</td>\n",
              "      <td>Subestação elétrica - Vitória Minerais - A uni...</td>\n",
              "    </tr>\n",
              "    <tr>\n",
              "      <th>3</th>\n",
              "      <td>Pintura e sinalizações na Fábrica</td>\n",
              "      <td>Pintura de faixas de pedestre, caminho seguro ...</td>\n",
              "      <td>Pintura e sinalizações na Fábrica  - Pintura d...</td>\n",
              "    </tr>\n",
              "    <tr>\n",
              "      <th>4</th>\n",
              "      <td>Contrução de um local cercado e limpo destinad...</td>\n",
              "      <td>Criar um espaço cercado  e com chão limpo para...</td>\n",
              "      <td>Contrução de um local cercado e limpo destinad...</td>\n",
              "    </tr>\n",
              "  </tbody>\n",
              "</table>\n",
              "</div>"
            ],
            "text/plain": [
              "                                        IDEIA_TITULO  \\\n",
              "0  Implementar chatbots que utilizem processament...   \n",
              "1                      SN Conhecimento Compartilhado   \n",
              "2             Subestação elétrica - Vitória Minerais   \n",
              "3                 Pintura e sinalizações na Fábrica    \n",
              "4  Contrução de um local cercado e limpo destinad...   \n",
              "\n",
              "                                     IDEIA_DESCRICAO  \\\n",
              "0  Em um cenário empresarial cada vez mais dinâmi...   \n",
              "1  Um espaço onde a sabedoria do Grupo SN é compa...   \n",
              "2  A unidade da Vitória Minerais está em grande e...   \n",
              "3  Pintura de faixas de pedestre, caminho seguro ...   \n",
              "4  Criar um espaço cercado  e com chão limpo para...   \n",
              "\n",
              "                                               IDEIA  \n",
              "0  Implementar chatbots que utilizem processament...  \n",
              "1  SN Conhecimento Compartilhado - Um espaço onde...  \n",
              "2  Subestação elétrica - Vitória Minerais - A uni...  \n",
              "3  Pintura e sinalizações na Fábrica  - Pintura d...  \n",
              "4  Contrução de um local cercado e limpo destinad...  "
            ]
          },
          "execution_count": 3,
          "metadata": {},
          "output_type": "execute_result"
        }
      ],
      "source": [
        "# Manter apenas as colunas 'IDEIA_TITULO' e 'IDEIA_DESCRICAO'\n",
        "df = df[['IDEIA_TITULO', 'IDEIA_DESCRICAO']]\n",
        "\n",
        "# Remover todas as linhas onde qualquer valor em 'IDEIA_TITULO' ou 'IDEIA_DESCRICAO' é vazio\n",
        "df = df.dropna(how='any')\n",
        "\n",
        "# Criar a nova coluna 'IDEIA' que concatena 'IDEIA_TITULO' e 'IDEIA_DESCRICAO'\n",
        "df['IDEIA'] = df['IDEIA_TITULO'].fillna('') + ' - ' + df['IDEIA_DESCRICAO'].fillna('')\n",
        "\n",
        "# Reindexar o DataFrame\n",
        "df = df.reset_index(drop=True)\n",
        "\n",
        "# Exibir o DataFrame resultante\n",
        "df.head()"
      ]
    },
    {
      "cell_type": "code",
      "execution_count": null,
      "id": "db6a3557",
      "metadata": {
        "id": "db6a3557"
      },
      "outputs": [],
      "source": [
        "# Criação do DataFrame df_ideias com as colunas especificadas, mantendo IDEIA_TITULO e IDEIA do DataFrame original\n",
        "df_ideias = df[['IDEIA_TITULO', 'IDEIA']].copy()\n",
        "\n",
        "# Adiciona as novas colunas com valores vazios\n",
        "df_ideias = df_ideias.assign(\n",
        "    categoria=pd.NA,\n",
        "    impacto=pd.NA,\n",
        "    reach=pd.NA,\n",
        "    impact=pd.NA,\n",
        "    confidence=pd.NA,\n",
        "    business_value=pd.NA,\n",
        "    time_criticality=pd.NA,\n",
        "    risk_reduction=pd.NA\n",
        ")"
      ]
    },
    {
      "cell_type": "code",
      "execution_count": null,
      "id": "f7a2281b",
      "metadata": {
        "id": "f7a2281b",
        "outputId": "809d1f84-b4aa-4270-ab6b-03c77cf063af"
      },
      "outputs": [
        {
          "name": "stdout",
          "output_type": "stream",
          "text": [
            "<class 'pandas.core.frame.DataFrame'>\n",
            "RangeIndex: 135 entries, 0 to 134\n",
            "Data columns (total 10 columns):\n",
            " #   Column            Non-Null Count  Dtype \n",
            "---  ------            --------------  ----- \n",
            " 0   IDEIA_TITULO      135 non-null    object\n",
            " 1   IDEIA             135 non-null    object\n",
            " 2   categoria         0 non-null      object\n",
            " 3   impacto           0 non-null      object\n",
            " 4   reach             0 non-null      object\n",
            " 5   impact            0 non-null      object\n",
            " 6   confidence        0 non-null      object\n",
            " 7   business_value    0 non-null      object\n",
            " 8   time_criticality  0 non-null      object\n",
            " 9   risk_reduction    0 non-null      object\n",
            "dtypes: object(10)\n",
            "memory usage: 10.7+ KB\n"
          ]
        }
      ],
      "source": [
        "df_ideias.info()"
      ]
    },
    {
      "cell_type": "markdown",
      "id": "a3142223",
      "metadata": {
        "id": "a3142223"
      },
      "source": [
        "# Langchain na veia - Priorização parte 1 (avaliação das ideias)"
      ]
    },
    {
      "cell_type": "code",
      "execution_count": null,
      "id": "dd133e3b",
      "metadata": {
        "id": "dd133e3b"
      },
      "outputs": [],
      "source": [
        "import os\n",
        "import openai\n",
        "from langchain_openai import ChatOpenAI\n",
        "from langchain.output_parsers import ResponseSchema, StructuredOutputParser\n",
        "from langchain.prompts import ChatPromptTemplate"
      ]
    },
    {
      "cell_type": "code",
      "execution_count": null,
      "id": "baccc0fb",
      "metadata": {
        "id": "baccc0fb"
      },
      "outputs": [],
      "source": [
        "# Configuração da API\n",
        "openai.api_key = 'insira_sua_chave_aqui'\n",
        "os.environ['OPENAI_API_KEY'] = openai.api_key\n",
        "llm = ChatOpenAI(model=\"gpt-4o-mini\", temperature=0.0)"
      ]
    },
    {
      "cell_type": "code",
      "execution_count": null,
      "id": "bd1aaa52",
      "metadata": {
        "id": "bd1aaa52"
      },
      "outputs": [],
      "source": [
        "# Definição dos esquemas de resposta\n",
        "reach = ResponseSchema(name=\"reach\", description=\"de 0.0 a 5.0; 5 significa maior alcance: quantas pessoas serão impactadas por essa iniciativa? (Considere para um mesmo período)\")\n",
        "impact = ResponseSchema(name=\"impact\", description=\"de 0.0 a 1.0; 1 significa maior impacto: quanto isso irá impactar cada uma dessas pessoas?\")\n",
        "confidence = ResponseSchema(name=\"confidence\", description=\"de 0.0 a 1.0; 1 significa 100% confiante: o quão confiante você está em relação a esses números?\")\n",
        "business_value = ResponseSchema(name=\"business_value\", description=\"de 0.0 a 5.0; 5 significa maior valor: Qual a penalidade potencial ou impacto negativo se atrasar ou demorar? Quanto está deixando de ganhar com essa iniciativa?\")\n",
        "time_criticality = ResponseSchema(name=\"time_criticality\", description=\"de 0.0 a 5.0; 5 significa extremamente crítico: O quão rápido o valor do negócio diminui ao longo do tempo? Os usuários irão esperar por nós ou encontrarão uma outra opção?\")\n",
        "risk_reduction = ResponseSchema(name=\"risk_reduction\", description=\"de 0.0 a 5.0; 5 significa extremamente necessário para reduzir risco: Qual o risco de postergar esta iniciativa para o nosso negócio? Esta iniciativa vai abrir/facilitar novas oportunidades de negócio?\")\n",
        "\n",
        "response_schemas = [reach, impact, confidence, business_value, time_criticality, risk_reduction]\n",
        "output_parser = StructuredOutputParser.from_response_schemas(response_schemas)\n",
        "format_instructions = output_parser.get_format_instructions()"
      ]
    },
    {
      "cell_type": "code",
      "execution_count": null,
      "id": "86cb198c",
      "metadata": {
        "id": "86cb198c"
      },
      "outputs": [],
      "source": [
        "template = '''Você é um grande especialista em categorização de ideias, você trabalha em um grupo de empresas\\\n",
        "que atua no setor de mineração (brita e calcário) e construção civil (concreteira, construtora e incorporadora).\\\n",
        "Tem um total aproximado de 500 colaboradores, e tem como missão estrategica o crescimento sustentável do negocio.\\\n",
        "\n",
        "Nossos principais objetivos são:\\\n",
        "Calcário: Ampliar nossas operações agregando mais valor através da diversificação de receitas e da intimidade com nossos clientes.\\\n",
        "Concreto: Entregar o melhor concreto com a melhor experiência\\\n",
        "Britas: Ser referencia em produtividade, atendimento, sustentabilidade e qualidade dos produtos.\\\n",
        "Construtora: Transformar a experiencia de morar e investir atraves de produtos imobiliarios inovadores e experiencias incriveis\\\n",
        "\n",
        "para a seguinte ideia, Classifique-a, não precisa explicar nada use apenas os numeros na resposta\\\n",
        "\n",
        "reach: float - quantas pessoas serão impactadas por essa iniciativa?\\\n",
        "impact: float - quanto isso irá impactar cada uma dessas pessoas?\\\n",
        "confidence: float - o quão confiante você está em relação a esses números?\\\n",
        "business_value: float - Qual a penalidade potencial ou impacto negativo se atrasar ou demorar? Quanto está deixando de ganhar com essa iniciativa?\\\n",
        "time_criticality: float - O quão rápido o valor do negócio diminui ao longo do tempo? Os usuários irão esperar por nós ou encontrarão uma outra opção?\\\n",
        "risk_reduction: float - Qual o risco de postergar esta iniciativa para o nosso negócio? Esta iniciativa vai abrir/facilitar novas oportunidades de negócio?\\\n",
        "{format_instructions}\n",
        "\n",
        "Ideia: {ideia}\n",
        "'''"
      ]
    },
    {
      "cell_type": "code",
      "execution_count": null,
      "id": "b4d0a056",
      "metadata": {
        "id": "b4d0a056"
      },
      "outputs": [],
      "source": [
        "prompt = ChatPromptTemplate.from_template(template=template)"
      ]
    },
    {
      "cell_type": "code",
      "execution_count": null,
      "id": "e2846e3b",
      "metadata": {
        "id": "e2846e3b"
      },
      "outputs": [],
      "source": [
        "def classify_idea(idea):\n",
        "    messages = prompt.format_messages(ideia=idea, format_instructions=format_instructions)\n",
        "    response = llm(messages)\n",
        "    output_dict = output_parser.parse(response.content)\n",
        "    return output_dict"
      ]
    },
    {
      "cell_type": "code",
      "execution_count": null,
      "id": "1cc1beb9",
      "metadata": {
        "id": "1cc1beb9",
        "outputId": "fbd051ac-ed7a-4432-aa84-3d0d2776e288"
      },
      "outputs": [
        {
          "name": "stderr",
          "output_type": "stream",
          "text": [
            "C:\\Users\\decio.mendonca\\AppData\\Roaming\\Python\\Python311\\site-packages\\langchain_core\\_api\\deprecation.py:139: LangChainDeprecationWarning: The method `BaseChatModel.__call__` was deprecated in langchain-core 0.1.7 and will be removed in 0.3.0. Use invoke instead.\n",
            "  warn_deprecated(\n"
          ]
        }
      ],
      "source": [
        "for index, row in df_ideias.iterrows():\n",
        "    idea = row['IDEIA']\n",
        "    classification = classify_idea(idea)\n",
        "\n",
        "    df_ideias.at[index, 'reach'] = classification.get('reach', '')\n",
        "    df_ideias.at[index, 'impact'] = classification.get('impact', '')\n",
        "    df_ideias.at[index, 'confidence'] = classification.get('confidence', '')\n",
        "    df_ideias.at[index, 'business_value'] = classification.get('business_value', '')\n",
        "    df_ideias.at[index, 'time_criticality'] = classification.get('time_criticality', '')\n",
        "    df_ideias.at[index, 'risk_reduction'] = classification.get('risk_reduction', '')"
      ]
    },
    {
      "cell_type": "code",
      "execution_count": null,
      "id": "a0433b0f",
      "metadata": {
        "id": "a0433b0f",
        "outputId": "52ef8d05-a5e0-4d49-e663-94bafde1fb5a"
      },
      "outputs": [
        {
          "name": "stdout",
          "output_type": "stream",
          "text": [
            "                                        IDEIA_TITULO  \\\n",
            "0  Implementar chatbots que utilizem processament...   \n",
            "1                      SN Conhecimento Compartilhado   \n",
            "2             Subestação elétrica - Vitória Minerais   \n",
            "3                 Pintura e sinalizações na Fábrica    \n",
            "4  Contrução de um local cercado e limpo destinad...   \n",
            "\n",
            "                                               IDEIA categoria impacto reach  \\\n",
            "0  Implementar chatbots que utilizem processament...      <NA>    <NA>   4.0   \n",
            "1  SN Conhecimento Compartilhado - Um espaço onde...      <NA>    <NA>   4.0   \n",
            "2  Subestação elétrica - Vitória Minerais - A uni...      <NA>    <NA>   4.0   \n",
            "3  Pintura e sinalizações na Fábrica  - Pintura d...      <NA>    <NA>   3.0   \n",
            "4  Contrução de um local cercado e limpo destinad...      <NA>    <NA>   3.0   \n",
            "\n",
            "  impact confidence business_value time_criticality risk_reduction  \n",
            "0    0.8        0.9            4.0              4.0            5.0  \n",
            "1    0.7        0.8            3.0              3.0            4.0  \n",
            "2    0.8        0.9            4.5              4.0            5.0  \n",
            "3    0.7        0.8            4.0              3.0            4.0  \n",
            "4    0.6        0.8            4.0              3.0            4.0  \n"
          ]
        }
      ],
      "source": [
        "print(df_ideias.head())"
      ]
    },
    {
      "cell_type": "markdown",
      "id": "bcd60404",
      "metadata": {
        "id": "bcd60404"
      },
      "source": [
        "# Categorização das ideias"
      ]
    },
    {
      "cell_type": "code",
      "execution_count": null,
      "id": "3a528138",
      "metadata": {
        "id": "3a528138"
      },
      "outputs": [],
      "source": [
        "# Definição dos esquemas de resposta\n",
        "categoria = ResponseSchema(name=\"categoria\", description=\"Categoria da ideia: [Segurança e Saúde Ocupacional, Operações de Mineração, Construção e Infraestrutura, Sustentabilidade e Meio Ambiente, Tecnologia e Automação, Logística e Cadeia de Suprimentos, Gestão de Recursos Humanos, Relações com a Comunidade, Economia Circular, Energia e Eficiência Energética]\")\n",
        "impacto = ResponseSchema(name=\"impacto\", description='''Grau de impacto para o negócio:\n",
        "[Alto Impacto: Benefícios tangíveis: A ideia tem potencial para gerar benefícios significativos, como aumento de receita, redução de custos ou melhorias na eficiência operacional?, A ideia afeta várias áreas da organização ou tem potencial para beneficiar um grande número de pessoas ou processos?, A ideia representa uma abordagem inovadora que pode diferenciar a organização da concorrência ou estabelecer novos padrões?, A ideia contribui para a sustentabilidade da organização, seja ela ambiental, social ou financeira?, A ideia tem potencial para causar mudanças significativas na forma como a organização opera ou se posiciona no mercado? -  As ideias de alto impacto geralmente estão ligadas a criação de novos negocios ou novas fontes de receita significativas.;\n",
        "Médio Impacto: A ideia contribui para a melhoria dos processos internos da organização, resultando em maior eficiência ou redução de custos?, A ideia pode melhorar a experiência dos stakeholders, como clientes, colaboradores ou fornecedores, aumentando a satisfação e a retenção?, A ideia ajuda a organização a se adaptar às mudanças no ambiente externo ou a tirar proveito de novas oportunidades de negócio?, A ideia promove a colaboração entre diferentes áreas da organização ou incentiva o compartilhamento de conhecimento e recursos?, A ideia pode contribuir para o desenvolvimento de competências dos colaboradores ou melhorar o ambiente de trabalho? - As ideias de medio impacto geralmente indicam a inserção de uma nova tecnologia, ou mudança significativa em processos e modelo de negocios;\n",
        "Baixo Impacto: A ideia representa uma melhoria incremental em produtos, serviços ou processos existentes?, A ideia resolve um problema específico ou aborda uma questão pontual na organização?, A ideia pode ser implementada rapidamente e com poucos recursos ou investimentos?, A ideia pode melhorar a comunicação entre os colaboradores ou departamentos da organização?, A ideia pode resultar em pequenas economias de custos ou aumentar a eficiência em áreas específicas da organização? - Ideias de baixo impacto geralmente envolve pequenas melhorias, mas com um certo grau de inovação e perspectiva diferente para o negocio;\n",
        "Ver e Agir: Ideias que são muito básicas, ou nem sequer se encaixam em um conceito de inovação, geralmente essas ideias são menos que incrementais e representam ações básicas que é só pegar e executar]''')\n",
        "\n",
        "response_schemas = [categoria, impacto]\n",
        "output_parser = StructuredOutputParser.from_response_schemas(response_schemas)\n",
        "format_instructions = output_parser.get_format_instructions()"
      ]
    },
    {
      "cell_type": "code",
      "execution_count": null,
      "id": "dda35b44",
      "metadata": {
        "id": "dda35b44"
      },
      "outputs": [],
      "source": [
        "template = '''Você é um grande especialista em categorização de ideias, você trabalha em um grupo de empresas\n",
        "que atua no setor de mineração (brita e calcário) e construção civil (concreteira, construtora e incorporadora).\n",
        "Tem um total aproximado de 500 colaboradores, e tem como missão estrategica o crescimento sustentável do negocio.\n",
        "\n",
        "Nossos principais objetivos são:\n",
        "Calcário: Ampliar nossas operações agregando mais valor através da diversificação de receitas e da intimidade com nossos clientes.\n",
        "Concreto: Entregar o melhor concreto com a melhor experiência\n",
        "Britas: Ser referencia em produtividade, atendimento, sustentabilidade e qualidade dos produtos.\n",
        "Construtora: Transformar a experiencia de morar e investir atraves de produtos imobiliarios inovadores e experiencias incriveis\n",
        "\n",
        "Lembre-se de usar como referência o modelo Cynefin, onde ver e agir são ideias que resolvem problemas do espectro simples\n",
        "Ideias de baixo impacto em geral envolvem problemas complicados\n",
        "Ideias de médio impacto em geral resolvem problemas do espectro complexo\n",
        "E por fim alto impacto são ideias relamente disruptivas e significativas.\n",
        "\n",
        "Seja MUITO rigoroso e criterioso para classificar médio e alto impacto. Para baixo impacto seja razoavelmente rigoroso, todo resto é ver e agir.\n",
        "\n",
        "categoria: String - Qual categoria a ideia se mostra mais aderente?\\\n",
        "impacto: String - Grau de impacto para o negócio: [Alto Impacto, Médio Impacto, Baixo Impacto, Ver e Agir]\\\n",
        "{format_instructions}\n",
        "\n",
        "Ideia: {ideia}\n",
        "'''"
      ]
    },
    {
      "cell_type": "code",
      "execution_count": null,
      "id": "b74793ce",
      "metadata": {
        "id": "b74793ce"
      },
      "outputs": [],
      "source": [
        "prompt = ChatPromptTemplate.from_template(template=template)"
      ]
    },
    {
      "cell_type": "code",
      "execution_count": null,
      "id": "feae1968",
      "metadata": {
        "id": "feae1968"
      },
      "outputs": [],
      "source": [
        "def classify_idea_category_impact(idea):\n",
        "    messages = prompt.format_messages(ideia=idea, format_instructions=format_instructions)\n",
        "    response = llm(messages)\n",
        "    output_dict = output_parser.parse(response.content)\n",
        "    return output_dict"
      ]
    },
    {
      "cell_type": "code",
      "execution_count": null,
      "id": "8381166f",
      "metadata": {
        "id": "8381166f"
      },
      "outputs": [],
      "source": [
        "# Iterar sobre cada ideia e atualizar o DataFrame\n",
        "for index, row in df_ideias.iterrows():\n",
        "    idea = row['IDEIA']\n",
        "    classification = classify_idea_category_impact(idea)\n",
        "\n",
        "    df_ideias.at[index, 'categoria'] = classification.get('categoria', '')\n",
        "    df_ideias.at[index, 'impacto'] = classification.get('impacto', '')\n"
      ]
    },
    {
      "cell_type": "code",
      "execution_count": null,
      "id": "341c4e42",
      "metadata": {
        "id": "341c4e42",
        "outputId": "fdaadefc-d8b4-41a5-c347-b57079c15205"
      },
      "outputs": [
        {
          "data": {
            "text/html": [
              "<div>\n",
              "<style scoped>\n",
              "    .dataframe tbody tr th:only-of-type {\n",
              "        vertical-align: middle;\n",
              "    }\n",
              "\n",
              "    .dataframe tbody tr th {\n",
              "        vertical-align: top;\n",
              "    }\n",
              "\n",
              "    .dataframe thead th {\n",
              "        text-align: right;\n",
              "    }\n",
              "</style>\n",
              "<table border=\"1\" class=\"dataframe\">\n",
              "  <thead>\n",
              "    <tr style=\"text-align: right;\">\n",
              "      <th></th>\n",
              "      <th>IDEIA_TITULO</th>\n",
              "      <th>IDEIA</th>\n",
              "      <th>categoria</th>\n",
              "      <th>impacto</th>\n",
              "      <th>reach</th>\n",
              "      <th>impact</th>\n",
              "      <th>confidence</th>\n",
              "      <th>business_value</th>\n",
              "      <th>time_criticality</th>\n",
              "      <th>risk_reduction</th>\n",
              "    </tr>\n",
              "  </thead>\n",
              "  <tbody>\n",
              "    <tr>\n",
              "      <th>0</th>\n",
              "      <td>Implementar chatbots que utilizem processament...</td>\n",
              "      <td>Implementar chatbots que utilizem processament...</td>\n",
              "      <td>Tecnologia e Automação</td>\n",
              "      <td>Médio Impacto</td>\n",
              "      <td>4.0</td>\n",
              "      <td>0.8</td>\n",
              "      <td>0.9</td>\n",
              "      <td>4.0</td>\n",
              "      <td>4.0</td>\n",
              "      <td>5.0</td>\n",
              "    </tr>\n",
              "    <tr>\n",
              "      <th>1</th>\n",
              "      <td>SN Conhecimento Compartilhado</td>\n",
              "      <td>SN Conhecimento Compartilhado - Um espaço onde...</td>\n",
              "      <td>Gestão de Recursos Humanos</td>\n",
              "      <td>Médio Impacto</td>\n",
              "      <td>4.0</td>\n",
              "      <td>0.7</td>\n",
              "      <td>0.8</td>\n",
              "      <td>3.0</td>\n",
              "      <td>3.0</td>\n",
              "      <td>4.0</td>\n",
              "    </tr>\n",
              "    <tr>\n",
              "      <th>2</th>\n",
              "      <td>Subestação elétrica - Vitória Minerais</td>\n",
              "      <td>Subestação elétrica - Vitória Minerais - A uni...</td>\n",
              "      <td>Energia e Eficiência Energética</td>\n",
              "      <td>Alto Impacto</td>\n",
              "      <td>4.0</td>\n",
              "      <td>0.8</td>\n",
              "      <td>0.9</td>\n",
              "      <td>4.5</td>\n",
              "      <td>4.0</td>\n",
              "      <td>5.0</td>\n",
              "    </tr>\n",
              "    <tr>\n",
              "      <th>3</th>\n",
              "      <td>Pintura e sinalizações na Fábrica</td>\n",
              "      <td>Pintura e sinalizações na Fábrica  - Pintura d...</td>\n",
              "      <td>Segurança e Saúde Ocupacional</td>\n",
              "      <td>Baixo Impacto</td>\n",
              "      <td>3.0</td>\n",
              "      <td>0.7</td>\n",
              "      <td>0.8</td>\n",
              "      <td>4.0</td>\n",
              "      <td>3.0</td>\n",
              "      <td>4.0</td>\n",
              "    </tr>\n",
              "    <tr>\n",
              "      <th>4</th>\n",
              "      <td>Contrução de um local cercado e limpo destinad...</td>\n",
              "      <td>Contrução de um local cercado e limpo destinad...</td>\n",
              "      <td>Sustentabilidade e Meio Ambiente</td>\n",
              "      <td>Baixo Impacto</td>\n",
              "      <td>3.0</td>\n",
              "      <td>0.6</td>\n",
              "      <td>0.8</td>\n",
              "      <td>4.0</td>\n",
              "      <td>3.0</td>\n",
              "      <td>4.0</td>\n",
              "    </tr>\n",
              "  </tbody>\n",
              "</table>\n",
              "</div>"
            ],
            "text/plain": [
              "                                        IDEIA_TITULO  \\\n",
              "0  Implementar chatbots que utilizem processament...   \n",
              "1                      SN Conhecimento Compartilhado   \n",
              "2             Subestação elétrica - Vitória Minerais   \n",
              "3                 Pintura e sinalizações na Fábrica    \n",
              "4  Contrução de um local cercado e limpo destinad...   \n",
              "\n",
              "                                               IDEIA  \\\n",
              "0  Implementar chatbots que utilizem processament...   \n",
              "1  SN Conhecimento Compartilhado - Um espaço onde...   \n",
              "2  Subestação elétrica - Vitória Minerais - A uni...   \n",
              "3  Pintura e sinalizações na Fábrica  - Pintura d...   \n",
              "4  Contrução de um local cercado e limpo destinad...   \n",
              "\n",
              "                          categoria        impacto reach impact confidence  \\\n",
              "0            Tecnologia e Automação  Médio Impacto   4.0    0.8        0.9   \n",
              "1        Gestão de Recursos Humanos  Médio Impacto   4.0    0.7        0.8   \n",
              "2   Energia e Eficiência Energética   Alto Impacto   4.0    0.8        0.9   \n",
              "3     Segurança e Saúde Ocupacional  Baixo Impacto   3.0    0.7        0.8   \n",
              "4  Sustentabilidade e Meio Ambiente  Baixo Impacto   3.0    0.6        0.8   \n",
              "\n",
              "  business_value time_criticality risk_reduction  \n",
              "0            4.0              4.0            5.0  \n",
              "1            3.0              3.0            4.0  \n",
              "2            4.5              4.0            5.0  \n",
              "3            4.0              3.0            4.0  \n",
              "4            4.0              3.0            4.0  "
            ]
          },
          "execution_count": 19,
          "metadata": {},
          "output_type": "execute_result"
        }
      ],
      "source": [
        "df_ideias.head()"
      ]
    },
    {
      "cell_type": "markdown",
      "id": "b2c73429",
      "metadata": {
        "id": "b2c73429"
      },
      "source": [
        "# Salvando Excel priorizado, categorizado e calculado"
      ]
    },
    {
      "cell_type": "code",
      "execution_count": null,
      "id": "6c2507e0",
      "metadata": {
        "id": "6c2507e0"
      },
      "outputs": [],
      "source": [
        "# Função para converter colunas de str para float\n",
        "def converter_para_float(df, colunas):\n",
        "    for coluna in colunas:\n",
        "        df[coluna] = pd.to_numeric(df[coluna], errors='coerce')  # Converte as colunas para float, erros são tratados como NaN\n",
        "\n",
        "# Lista de colunas a serem convertidas\n",
        "colunas_para_converter = ['reach', 'impact', 'confidence', 'business_value', 'time_criticality', 'risk_reduction']\n",
        "\n",
        "# Converter as colunas para float\n",
        "converter_para_float(df_ideias, colunas_para_converter)\n",
        "\n",
        "# Função para calcular o valor de cada projeto\n",
        "def calcular_valor(row):\n",
        "    reach = row['reach']\n",
        "    impact = row['impact']\n",
        "    confidence = row['confidence']\n",
        "    business_value = row['business_value']\n",
        "    time_criticality = row['time_criticality']\n",
        "    risk_reduction = row['risk_reduction']\n",
        "\n",
        "    # Calcular o valor\n",
        "    valor = (reach * impact * confidence) + ((business_value + time_criticality + risk_reduction) / 3)\n",
        "    return valor\n",
        "\n",
        "# Aplicação da função para calcular o valor\n",
        "df_ideias['Valor'] = df_ideias.apply(calcular_valor, axis=1)\n",
        "\n",
        "# Salvando os resultados em um novo arquivo Excel\n",
        "df_ideias.to_excel('projetos_priorizados_langchain.xlsx', index=False)"
      ]
    },
    {
      "cell_type": "markdown",
      "id": "eda4b4fe",
      "metadata": {
        "id": "eda4b4fe"
      },
      "source": [
        "# Comparar Ideias parecidas"
      ]
    },
    {
      "cell_type": "code",
      "execution_count": null,
      "id": "23f08dbd",
      "metadata": {
        "id": "23f08dbd"
      },
      "outputs": [],
      "source": [
        "#Importar os tokenizers\n",
        "#Transformar a tabela de ideias\n",
        "#Usar como TXT\n",
        "#Caçar ideias parecidas\n",
        "#Estruturar em JSON, ou passar como parametro para busca manual\n",
        "#Expor na tela"
      ]
    },
    {
      "cell_type": "code",
      "execution_count": null,
      "id": "0172dba5",
      "metadata": {
        "id": "0172dba5"
      },
      "outputs": [],
      "source": [
        "from langchain.document_loaders import PyPDFLoader\n",
        "from langchain.text_splitter import RecursiveCharacterTextSplitter\n",
        "from langchain.embeddings import OpenAIEmbeddings\n",
        "from langchain.vectorstores import FAISS\n",
        "from langchain.chains.question_answering import load_qa_chain\n",
        "from langchain.llms import OpenAI\n",
        "from langchain.chains import ConversationalRetrievalChain\n",
        "\n",
        "from transformers import GPT2TokenizerFast\n",
        "\n",
        "import textract"
      ]
    },
    {
      "cell_type": "code",
      "execution_count": null,
      "id": "bc471337",
      "metadata": {
        "id": "bc471337"
      },
      "outputs": [],
      "source": [
        "# Selecionar as colunas desejadas\n",
        "df_comparar = df_ideias[['IDEIA_TITULO', 'IDEIA']]\n",
        "\n",
        "# Salvar as informações no arquivo txt\n",
        "with open('comparar_ideias.txt', 'w', encoding=\"utf-8\") as file:\n",
        "    for index, row in df_comparar.iterrows():\n",
        "        titulo = row['IDEIA_TITULO']\n",
        "        ideia = row['IDEIA']\n",
        "        file.write(f\"Título: {titulo}\\nIdeia: {ideia}\\n\\n\")"
      ]
    },
    {
      "cell_type": "markdown",
      "id": "340ce823",
      "metadata": {
        "id": "340ce823"
      },
      "source": [
        "Tentando ler o documento"
      ]
    },
    {
      "cell_type": "code",
      "execution_count": null,
      "id": "3f64d2a8",
      "metadata": {
        "id": "3f64d2a8",
        "outputId": "3f6a0b16-bea9-4105-fd70-faa65b8ddb81"
      },
      "outputs": [
        {
          "name": "stderr",
          "output_type": "stream",
          "text": [
            "C:\\Users\\decio.mendonca\\AppData\\Roaming\\Python\\Python311\\site-packages\\huggingface_hub\\file_download.py:1132: FutureWarning: `resume_download` is deprecated and will be removed in version 1.0.0. Downloads always resume when possible. If you want to force a new download, use `force_download=True`.\n",
            "  warnings.warn(\n"
          ]
        }
      ],
      "source": [
        "with open('comparar_ideias.txt','r', encoding=\"utf-8\") as f:\n",
        "    text = f.read()\n",
        "\n",
        "tokenizer = GPT2TokenizerFast.from_pretrained(\"gpt2\")\n",
        "\n",
        "def count_tokens(text: str) -> int:\n",
        "    return len(tokenizer.encode(text))\n",
        "\n",
        "text_splitter = RecursiveCharacterTextSplitter(\n",
        "    chunk_size = 512,\n",
        "    chunk_overlap  = 24,\n",
        "    length_function = count_tokens,\n",
        ")\n",
        "\n",
        "chunks = text_splitter.create_documents([text])"
      ]
    },
    {
      "cell_type": "code",
      "execution_count": null,
      "id": "01f6eebd",
      "metadata": {
        "id": "01f6eebd",
        "outputId": "bd69a6d0-66f2-49ec-b00e-c23d81d44c8b"
      },
      "outputs": [
        {
          "name": "stderr",
          "output_type": "stream",
          "text": [
            "C:\\Users\\decio.mendonca\\AppData\\Roaming\\Python\\Python311\\site-packages\\langchain_core\\_api\\deprecation.py:139: LangChainDeprecationWarning: The class `OpenAIEmbeddings` was deprecated in LangChain 0.0.9 and will be removed in 0.3.0. An updated version of the class exists in the langchain-openai package and should be used instead. To use it run `pip install -U langchain-openai` and import as `from langchain_openai import OpenAIEmbeddings`.\n",
            "  warn_deprecated(\n"
          ]
        }
      ],
      "source": [
        "embeddings = OpenAIEmbeddings(openai_api_key=openai.api_key, model=\"text-embedding-ada-002\")\n",
        "\n",
        "db = FAISS.from_documents(chunks, embeddings)"
      ]
    },
    {
      "cell_type": "code",
      "execution_count": null,
      "id": "5d12aea3",
      "metadata": {
        "id": "5d12aea3"
      },
      "outputs": [],
      "source": [
        "nova_ideia = \"Placas de identificação\""
      ]
    },
    {
      "cell_type": "code",
      "execution_count": null,
      "id": "4f93e25e",
      "metadata": {
        "id": "4f93e25e",
        "outputId": "74f1a6dd-7816-4c3f-e520-e5a57cea6e75"
      },
      "outputs": [
        {
          "data": {
            "text/plain": [
              "Document(page_content='Título: Crachá de identificação para terceirizados \\nIdeia: Crachá de identificação para terceirizados  - Um crachá de identificação para os funcionários que estão trabalhando terceirizados na fábrica, nele o prestador de serviços terá o seu nome, nome da empresa e o seu cargo. No verso os treinamentos que estão habilitados, treinamentos em altura, espaço confinado e etc.\\n\\nTítulo: CARRETO SN BRITA\\nIdeia: CARRETO SN BRITA - Aquisição de caminhão e motorista para realizar entregas programadas/pré agendadas de brita. Isso minimiza filas transtornos de logística e tempo de espera para retirada do produto na planta de produção. Além disso agrega mais valor ao produto e pode se sustentar mediante cobrança de frete.\\n\\nTítulo: Energia para iluminação da Mina\\nIdeia: Energia para iluminação da Mina - Atualmente a mina trabalha até às 22hs. Para iluminação é usado um pequeno gerador a gasolina e refletores. Nossa bomba da Mina utiliza uma tensão de 440v que atende e sobra para o funcionamento. Um pequeno transformador de 440v para 220v atenderia para uma iluminação com energia mais constante e confiável para a operação noturna.')"
            ]
          },
          "execution_count": 95,
          "metadata": {},
          "output_type": "execute_result"
        }
      ],
      "source": [
        "query = f\"Faça uma lista numerada com os titulos das ideias que tem relação com a seguinte ideia: {nova_ideia}\"\n",
        "docs = db.similarity_search(query)\n",
        "docs[0]"
      ]
    },
    {
      "cell_type": "code",
      "execution_count": null,
      "id": "297f3153",
      "metadata": {
        "id": "297f3153"
      },
      "outputs": [],
      "source": [
        "chain = load_qa_chain(OpenAI(openai_api_key=openai.api_key, temperature=0), chain_type=\"stuff\")\n",
        "\n",
        "saida = chain.run(input_documents=docs, question=query)"
      ]
    },
    {
      "cell_type": "code",
      "execution_count": null,
      "id": "9e18cc8f",
      "metadata": {
        "id": "9e18cc8f",
        "outputId": "e80c34a6-f129-4bf3-833e-cdf1d0edc697"
      },
      "outputs": [
        {
          "name": "stdout",
          "output_type": "stream",
          "text": [
            "\n",
            "1. Crachá de identificação para terceirizados\n",
            "2. CARRETO SN BRITA\n",
            "3. Energia para iluminação da Mina\n",
            "4. Criar um plano para limpeza em todos galpões para retirada da poluição visual\n",
            "5. Desenhos e esquemas técnicos\n",
            "6. Controle e melhoria nas operações com caminhões e equipamentos móveis\n",
            "7. DEMONSTRATIVO DE CONTEÚDO MÁQUINA DE CAFÉ\n",
            "8. PARCERIA PARA UTILIZAÇÃO DO AUDITÓRIO\n",
            "9. Requisição de compra automática\n",
            "10. Impressão das Apostilas de Inglês\n",
            "11. Campeonato\n",
            "12. Quadra de esportes\n"
          ]
        }
      ],
      "source": [
        "print(saida)"
      ]
    },
    {
      "cell_type": "code",
      "execution_count": null,
      "id": "22d6890c",
      "metadata": {
        "id": "22d6890c",
        "outputId": "79b94710-dffa-4b09-8cf6-12280ba4c780"
      },
      "outputs": [
        {
          "name": "stdout",
          "output_type": "stream",
          "text": [
            "{1: 'Crachá de identificação para terceirizados', 2: 'CARRETO SN BRITA', 3: 'Energia para iluminação da Mina', 4: 'Criar um plano para limpeza em todos galpões para retirada da poluição visual', 5: 'Desenhos e esquemas técnicos', 6: 'Controle e melhoria nas operações com caminhões e equipamentos móveis', 7: 'DEMONSTRATIVO DE CONTEÚDO MÁQUINA DE CAFÉ', 8: 'PARCERIA PARA UTILIZAÇÃO DO AUDITÓRIO', 9: 'Requisição de compra automática', 10: 'Impressão das Apostilas de Inglês', 11: 'Campeonato', 12: 'Quadra de esportes'}\n"
          ]
        }
      ],
      "source": [
        "# Remove espaços extras e quebra de linhas\n",
        "saida = saida.strip()\n",
        "\n",
        "# Divide a string em linhas\n",
        "linhas = saida.split('\\n')\n",
        "\n",
        "# Cria um dicionário a partir das linhas\n",
        "dicionario = {}\n",
        "for linha in linhas:\n",
        "    # Divide cada linha em número e item\n",
        "    numero, item = linha.split('. ', 1)\n",
        "    dicionario[int(numero)] = item\n",
        "\n",
        "print(dicionario)"
      ]
    },
    {
      "cell_type": "code",
      "execution_count": null,
      "id": "d15b32b9",
      "metadata": {
        "id": "d15b32b9",
        "outputId": "85a4e3d1-2fdc-49f8-81ed-d7774601d34f"
      },
      "outputs": [
        {
          "data": {
            "text/html": [
              "<div>\n",
              "<style scoped>\n",
              "    .dataframe tbody tr th:only-of-type {\n",
              "        vertical-align: middle;\n",
              "    }\n",
              "\n",
              "    .dataframe tbody tr th {\n",
              "        vertical-align: top;\n",
              "    }\n",
              "\n",
              "    .dataframe thead th {\n",
              "        text-align: right;\n",
              "    }\n",
              "</style>\n",
              "<table border=\"1\" class=\"dataframe\">\n",
              "  <thead>\n",
              "    <tr style=\"text-align: right;\">\n",
              "      <th></th>\n",
              "      <th>IDEIA_TITULO</th>\n",
              "      <th>IDEIA</th>\n",
              "      <th>categoria</th>\n",
              "      <th>impacto</th>\n",
              "      <th>reach</th>\n",
              "      <th>impact</th>\n",
              "      <th>confidence</th>\n",
              "      <th>business_value</th>\n",
              "      <th>time_criticality</th>\n",
              "      <th>risk_reduction</th>\n",
              "      <th>Valor</th>\n",
              "    </tr>\n",
              "  </thead>\n",
              "  <tbody>\n",
              "    <tr>\n",
              "      <th>8</th>\n",
              "      <td>Desenhos e esquemas técnicos</td>\n",
              "      <td>Desenhos e esquemas técnicos - Em nossas unida...</td>\n",
              "      <td>Operações de Mineração</td>\n",
              "      <td>Médio Impacto</td>\n",
              "      <td>4.0</td>\n",
              "      <td>0.7</td>\n",
              "      <td>0.8</td>\n",
              "      <td>4.0</td>\n",
              "      <td>3.0</td>\n",
              "      <td>4.0</td>\n",
              "      <td>5.906667</td>\n",
              "    </tr>\n",
              "    <tr>\n",
              "      <th>39</th>\n",
              "      <td>DEMONSTRATIVO DE CONTEÚDO MÁQUINA DE CAFÉ</td>\n",
              "      <td>DEMONSTRATIVO DE CONTEÚDO MÁQUINA DE CAFÉ - Co...</td>\n",
              "      <td>Gestão de Recursos Humanos</td>\n",
              "      <td>Ver e Agir</td>\n",
              "      <td>2.0</td>\n",
              "      <td>0.3</td>\n",
              "      <td>0.8</td>\n",
              "      <td>1.0</td>\n",
              "      <td>1.0</td>\n",
              "      <td>1.0</td>\n",
              "      <td>1.480000</td>\n",
              "    </tr>\n",
              "    <tr>\n",
              "      <th>40</th>\n",
              "      <td>PARCERIA PARA UTILIZAÇÃO DO AUDITÓRIO</td>\n",
              "      <td>PARCERIA PARA UTILIZAÇÃO DO AUDITÓRIO - A idei...</td>\n",
              "      <td>Relações com a Comunidade</td>\n",
              "      <td>Médio Impacto</td>\n",
              "      <td>4.0</td>\n",
              "      <td>0.6</td>\n",
              "      <td>0.8</td>\n",
              "      <td>3.0</td>\n",
              "      <td>3.0</td>\n",
              "      <td>4.0</td>\n",
              "      <td>5.253333</td>\n",
              "    </tr>\n",
              "    <tr>\n",
              "      <th>47</th>\n",
              "      <td>CARRETO SN BRITA</td>\n",
              "      <td>CARRETO SN BRITA - Aquisição de caminhão e mot...</td>\n",
              "      <td>Logística e Cadeia de Suprimentos</td>\n",
              "      <td>Médio Impacto</td>\n",
              "      <td>4.0</td>\n",
              "      <td>0.7</td>\n",
              "      <td>0.8</td>\n",
              "      <td>4.0</td>\n",
              "      <td>3.0</td>\n",
              "      <td>4.0</td>\n",
              "      <td>5.906667</td>\n",
              "    </tr>\n",
              "    <tr>\n",
              "      <th>48</th>\n",
              "      <td>Energia para iluminação da Mina</td>\n",
              "      <td>Energia para iluminação da Mina - Atualmente a...</td>\n",
              "      <td>Energia e Eficiência Energética</td>\n",
              "      <td>Médio Impacto</td>\n",
              "      <td>3.0</td>\n",
              "      <td>0.7</td>\n",
              "      <td>0.8</td>\n",
              "      <td>4.0</td>\n",
              "      <td>3.0</td>\n",
              "      <td>4.0</td>\n",
              "      <td>5.346667</td>\n",
              "    </tr>\n",
              "    <tr>\n",
              "      <th>77</th>\n",
              "      <td>Impressão das Apostilas de Inglês</td>\n",
              "      <td>Impressão das Apostilas de Inglês - A ideia pa...</td>\n",
              "      <td>Gestão de Recursos Humanos</td>\n",
              "      <td>Baixo Impacto</td>\n",
              "      <td>3.0</td>\n",
              "      <td>0.6</td>\n",
              "      <td>0.8</td>\n",
              "      <td>2.0</td>\n",
              "      <td>2.0</td>\n",
              "      <td>3.0</td>\n",
              "      <td>3.773333</td>\n",
              "    </tr>\n",
              "    <tr>\n",
              "      <th>78</th>\n",
              "      <td>Campeonato</td>\n",
              "      <td>Campeonato - Organizar um campeonato interno d...</td>\n",
              "      <td>Gestão de Recursos Humanos</td>\n",
              "      <td>Baixo Impacto</td>\n",
              "      <td>4.0</td>\n",
              "      <td>0.7</td>\n",
              "      <td>0.8</td>\n",
              "      <td>3.0</td>\n",
              "      <td>2.0</td>\n",
              "      <td>4.0</td>\n",
              "      <td>5.240000</td>\n",
              "    </tr>\n",
              "    <tr>\n",
              "      <th>79</th>\n",
              "      <td>Quadra de esportes</td>\n",
              "      <td>Quadra de esportes - Construção de uma quadra ...</td>\n",
              "      <td>Relações com a Comunidade</td>\n",
              "      <td>Baixo Impacto</td>\n",
              "      <td>3.0</td>\n",
              "      <td>0.6</td>\n",
              "      <td>0.8</td>\n",
              "      <td>2.0</td>\n",
              "      <td>3.0</td>\n",
              "      <td>2.0</td>\n",
              "      <td>3.773333</td>\n",
              "    </tr>\n",
              "  </tbody>\n",
              "</table>\n",
              "</div>"
            ],
            "text/plain": [
              "                                 IDEIA_TITULO  \\\n",
              "8                Desenhos e esquemas técnicos   \n",
              "39  DEMONSTRATIVO DE CONTEÚDO MÁQUINA DE CAFÉ   \n",
              "40      PARCERIA PARA UTILIZAÇÃO DO AUDITÓRIO   \n",
              "47                           CARRETO SN BRITA   \n",
              "48            Energia para iluminação da Mina   \n",
              "77          Impressão das Apostilas de Inglês   \n",
              "78                                 Campeonato   \n",
              "79                         Quadra de esportes   \n",
              "\n",
              "                                                IDEIA  \\\n",
              "8   Desenhos e esquemas técnicos - Em nossas unida...   \n",
              "39  DEMONSTRATIVO DE CONTEÚDO MÁQUINA DE CAFÉ - Co...   \n",
              "40  PARCERIA PARA UTILIZAÇÃO DO AUDITÓRIO - A idei...   \n",
              "47  CARRETO SN BRITA - Aquisição de caminhão e mot...   \n",
              "48  Energia para iluminação da Mina - Atualmente a...   \n",
              "77  Impressão das Apostilas de Inglês - A ideia pa...   \n",
              "78  Campeonato - Organizar um campeonato interno d...   \n",
              "79  Quadra de esportes - Construção de uma quadra ...   \n",
              "\n",
              "                            categoria        impacto  reach  impact  \\\n",
              "8              Operações de Mineração  Médio Impacto    4.0     0.7   \n",
              "39         Gestão de Recursos Humanos     Ver e Agir    2.0     0.3   \n",
              "40          Relações com a Comunidade  Médio Impacto    4.0     0.6   \n",
              "47  Logística e Cadeia de Suprimentos  Médio Impacto    4.0     0.7   \n",
              "48    Energia e Eficiência Energética  Médio Impacto    3.0     0.7   \n",
              "77         Gestão de Recursos Humanos  Baixo Impacto    3.0     0.6   \n",
              "78         Gestão de Recursos Humanos  Baixo Impacto    4.0     0.7   \n",
              "79          Relações com a Comunidade  Baixo Impacto    3.0     0.6   \n",
              "\n",
              "    confidence  business_value  time_criticality  risk_reduction     Valor  \n",
              "8          0.8             4.0               3.0             4.0  5.906667  \n",
              "39         0.8             1.0               1.0             1.0  1.480000  \n",
              "40         0.8             3.0               3.0             4.0  5.253333  \n",
              "47         0.8             4.0               3.0             4.0  5.906667  \n",
              "48         0.8             4.0               3.0             4.0  5.346667  \n",
              "77         0.8             2.0               2.0             3.0  3.773333  \n",
              "78         0.8             3.0               2.0             4.0  5.240000  \n",
              "79         0.8             2.0               3.0             2.0  3.773333  "
            ]
          },
          "execution_count": 99,
          "metadata": {},
          "output_type": "execute_result"
        }
      ],
      "source": [
        "# Filtra o DataFrame com base nos valores do dicionário\n",
        "filtro_titulos = list(dicionario.values())\n",
        "resultado = df_ideias[df_ideias['IDEIA_TITULO'].isin(filtro_titulos)]\n",
        "\n",
        "resultado"
      ]
    },
    {
      "cell_type": "markdown",
      "id": "da1feb4d",
      "metadata": {
        "id": "da1feb4d"
      },
      "source": [
        "# SEM IA PORQUE IA NÃO É TUDO"
      ]
    },
    {
      "cell_type": "code",
      "execution_count": null,
      "id": "62e65e7f",
      "metadata": {
        "id": "62e65e7f",
        "outputId": "f13d76c6-1257-436f-8f8a-ae2846cc84e5"
      },
      "outputs": [
        {
          "data": {
            "text/html": [
              "<div>\n",
              "<style scoped>\n",
              "    .dataframe tbody tr th:only-of-type {\n",
              "        vertical-align: middle;\n",
              "    }\n",
              "\n",
              "    .dataframe tbody tr th {\n",
              "        vertical-align: top;\n",
              "    }\n",
              "\n",
              "    .dataframe thead th {\n",
              "        text-align: right;\n",
              "    }\n",
              "</style>\n",
              "<table border=\"1\" class=\"dataframe\">\n",
              "  <thead>\n",
              "    <tr style=\"text-align: right;\">\n",
              "      <th></th>\n",
              "      <th>IDEIA_TITULO</th>\n",
              "      <th>IDEIA</th>\n",
              "      <th>categoria</th>\n",
              "      <th>impacto</th>\n",
              "      <th>reach</th>\n",
              "      <th>impact</th>\n",
              "      <th>confidence</th>\n",
              "      <th>business_value</th>\n",
              "      <th>time_criticality</th>\n",
              "      <th>risk_reduction</th>\n",
              "      <th>Valor</th>\n",
              "    </tr>\n",
              "  </thead>\n",
              "  <tbody>\n",
              "    <tr>\n",
              "      <th>3</th>\n",
              "      <td>Pintura e sinalizações na Fábrica</td>\n",
              "      <td>Pintura e sinalizações na Fábrica  - Pintura d...</td>\n",
              "      <td>Segurança e Saúde Ocupacional</td>\n",
              "      <td>Baixo Impacto</td>\n",
              "      <td>3.0</td>\n",
              "      <td>0.7</td>\n",
              "      <td>0.8</td>\n",
              "      <td>4.0</td>\n",
              "      <td>3.0</td>\n",
              "      <td>4.0</td>\n",
              "      <td>5.346667</td>\n",
              "    </tr>\n",
              "    <tr>\n",
              "      <th>12</th>\n",
              "      <td>Concreto de qualidade é concreto azul</td>\n",
              "      <td>Concreto de qualidade é concreto azul - Pintar...</td>\n",
              "      <td>Construção e Infraestrutura</td>\n",
              "      <td>Baixo Impacto</td>\n",
              "      <td>3.0</td>\n",
              "      <td>0.7</td>\n",
              "      <td>0.8</td>\n",
              "      <td>4.0</td>\n",
              "      <td>3.0</td>\n",
              "      <td>2.0</td>\n",
              "      <td>4.680000</td>\n",
              "    </tr>\n",
              "    <tr>\n",
              "      <th>39</th>\n",
              "      <td>DEMONSTRATIVO DE CONTEÚDO MÁQUINA DE CAFÉ</td>\n",
              "      <td>DEMONSTRATIVO DE CONTEÚDO MÁQUINA DE CAFÉ - Co...</td>\n",
              "      <td>Gestão de Recursos Humanos</td>\n",
              "      <td>Ver e Agir</td>\n",
              "      <td>2.0</td>\n",
              "      <td>0.3</td>\n",
              "      <td>0.8</td>\n",
              "      <td>1.0</td>\n",
              "      <td>1.0</td>\n",
              "      <td>1.0</td>\n",
              "      <td>1.480000</td>\n",
              "    </tr>\n",
              "    <tr>\n",
              "      <th>50</th>\n",
              "      <td>Plano odontológico</td>\n",
              "      <td>Plano odontológico  - Um plano odontológico pa...</td>\n",
              "      <td>Gestão de Recursos Humanos</td>\n",
              "      <td>Baixo Impacto</td>\n",
              "      <td>3.0</td>\n",
              "      <td>0.6</td>\n",
              "      <td>0.7</td>\n",
              "      <td>4.0</td>\n",
              "      <td>3.0</td>\n",
              "      <td>2.0</td>\n",
              "      <td>4.260000</td>\n",
              "    </tr>\n",
              "    <tr>\n",
              "      <th>51</th>\n",
              "      <td>organização</td>\n",
              "      <td>organização - deicha um quite de ferramenta em...</td>\n",
              "      <td>Operações de Mineração</td>\n",
              "      <td>Baixo Impacto</td>\n",
              "      <td>3.0</td>\n",
              "      <td>0.5</td>\n",
              "      <td>0.7</td>\n",
              "      <td>2.0</td>\n",
              "      <td>3.0</td>\n",
              "      <td>2.0</td>\n",
              "      <td>3.383333</td>\n",
              "    </tr>\n",
              "  </tbody>\n",
              "</table>\n",
              "</div>"
            ],
            "text/plain": [
              "                                 IDEIA_TITULO  \\\n",
              "3          Pintura e sinalizações na Fábrica    \n",
              "12      Concreto de qualidade é concreto azul   \n",
              "39  DEMONSTRATIVO DE CONTEÚDO MÁQUINA DE CAFÉ   \n",
              "50                        Plano odontológico    \n",
              "51                                organização   \n",
              "\n",
              "                                                IDEIA  \\\n",
              "3   Pintura e sinalizações na Fábrica  - Pintura d...   \n",
              "12  Concreto de qualidade é concreto azul - Pintar...   \n",
              "39  DEMONSTRATIVO DE CONTEÚDO MÁQUINA DE CAFÉ - Co...   \n",
              "50  Plano odontológico  - Um plano odontológico pa...   \n",
              "51  organização - deicha um quite de ferramenta em...   \n",
              "\n",
              "                        categoria        impacto  reach  impact  confidence  \\\n",
              "3   Segurança e Saúde Ocupacional  Baixo Impacto    3.0     0.7         0.8   \n",
              "12    Construção e Infraestrutura  Baixo Impacto    3.0     0.7         0.8   \n",
              "39     Gestão de Recursos Humanos     Ver e Agir    2.0     0.3         0.8   \n",
              "50     Gestão de Recursos Humanos  Baixo Impacto    3.0     0.6         0.7   \n",
              "51         Operações de Mineração  Baixo Impacto    3.0     0.5         0.7   \n",
              "\n",
              "    business_value  time_criticality  risk_reduction     Valor  \n",
              "3              4.0               3.0             4.0  5.346667  \n",
              "12             4.0               3.0             2.0  4.680000  \n",
              "39             1.0               1.0             1.0  1.480000  \n",
              "50             4.0               3.0             2.0  4.260000  \n",
              "51             2.0               3.0             2.0  3.383333  "
            ]
          },
          "execution_count": 93,
          "metadata": {},
          "output_type": "execute_result"
        }
      ],
      "source": [
        "from fuzzywuzzy import process\n",
        "def encontrar_similaridades(texto, df, coluna='IDEIA', limite=30):\n",
        "    \"\"\"\n",
        "    Encontra as linhas no DataFrame que são similares ao texto de entrada usando FuzzyWuzzy.\n",
        "\n",
        "    Args:\n",
        "        texto (str): O texto de entrada para comparação.\n",
        "        df (pd.DataFrame): O DataFrame contendo os dados.\n",
        "        coluna (str): Nome da coluna no DataFrame a ser comparada.\n",
        "        limite (int): Limite de similaridade para considerar uma correspondência.\n",
        "\n",
        "    Returns:\n",
        "        pd.DataFrame: DataFrame contendo as linhas com similaridade acima do limite.\n",
        "    \"\"\"\n",
        "    # Extrair a coluna de interesse como uma lista\n",
        "    textos_base = df[coluna].tolist()\n",
        "\n",
        "    # Encontrar as melhores correspondências\n",
        "    correspondencias = process.extractBests(texto, textos_base, score_cutoff=limite)\n",
        "\n",
        "    # Obter os índices das correspondências\n",
        "    indices = [textos_base.index(m[0]) for m in correspondencias]\n",
        "\n",
        "    # Retornar o DataFrame com as linhas correspondentes\n",
        "    return df.iloc[indices]\n",
        "\n",
        "\n",
        "df_ideias\n",
        "\n",
        "# Texto de entrada para comparação\n",
        "texto_input = 'Placas de identificação'\n",
        "\n",
        "# Encontrar e imprimir as similaridades\n",
        "resultados = encontrar_similaridades(texto_input, df_ideias)\n",
        "resultados"
      ]
    },
    {
      "cell_type": "code",
      "execution_count": null,
      "id": "14409279",
      "metadata": {
        "id": "14409279"
      },
      "outputs": [],
      "source": []
    }
  ],
  "metadata": {
    "kernelspec": {
      "display_name": "Python 3 (ipykernel)",
      "language": "python",
      "name": "python3"
    },
    "language_info": {
      "codemirror_mode": {
        "name": "ipython",
        "version": 3
      },
      "file_extension": ".py",
      "mimetype": "text/x-python",
      "name": "python",
      "nbconvert_exporter": "python",
      "pygments_lexer": "ipython3",
      "version": "3.11.5"
    },
    "colab": {
      "provenance": []
    }
  },
  "nbformat": 4,
  "nbformat_minor": 5
}